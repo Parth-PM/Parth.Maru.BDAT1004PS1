{
 "cells": [
  {
   "cell_type": "markdown",
   "id": "50f04db9",
   "metadata": {},
   "source": [
    "# Question 1 C#"
   ]
  },
  {
   "cell_type": "markdown",
   "id": "237dd7c1",
   "metadata": {},
   "source": [
    "5 Int\n",
    "5.0 Float\n",
    "5 > 1 Boolean\n",
    "'5' Character\n",
    "5*2 Int\n",
    "'5'*2 String\n",
    "'5'+'2' String\n",
    "5/2 Float\n",
    "5%2 Int\n",
    "{5,2,1} Array\n",
    "5==3 Boolean\n",
    "Pi(the number) 3.14 = Float// 3.142857...=Double"
   ]
  },
  {
   "cell_type": "markdown",
   "id": "43175820",
   "metadata": {},
   "source": [
    "# Question 2a C#"
   ]
  },
  {
   "cell_type": "code",
   "execution_count": 10,
   "id": "16d32551",
   "metadata": {},
   "outputs": [
    {
     "name": "stdout",
     "output_type": "stream",
     "text": [
      "34\r\n"
     ]
    }
   ],
   "source": [
    "    //VAriable of String\n",
    "    String word = \"Supercalifragilisticexpialidocious\";\n",
    "    \n",
    "    //count\n",
    "    int count = 0;\n",
    "    for (int i = 0; i < word.Length; i++)\n",
    "    {\n",
    "    count ++;\n",
    "    }\n",
    "    \n",
    "    Console.WriteLine(count);\n",
    "    Console.Read();\n",
    " "
   ]
  },
  {
   "cell_type": "markdown",
   "id": "7d1220a2",
   "metadata": {},
   "source": [
    "# Question 2b C#"
   ]
  },
  {
   "cell_type": "code",
   "execution_count": 12,
   "id": "bc82e553",
   "metadata": {},
   "outputs": [
    {
     "name": "stdout",
     "output_type": "stream",
     "text": [
      "True\r\n"
     ]
    }
   ],
   "source": [
    "// Main String\n",
    "    String MainWord = \"Supercalifragilisticexpialidocious\";\n",
    "\n",
    "// Sub String\n",
    "    String Subword = \"ice\";\n",
    "\n",
    "Console.WriteLine(MainWord.Contains(Subword));\n",
    "Console.ReadLine();\n",
    "    "
   ]
  },
  {
   "cell_type": "markdown",
   "id": "65bac0c8",
   "metadata": {},
   "source": [
    "# Question 2c C#"
   ]
  },
  {
   "cell_type": "code",
   "execution_count": 15,
   "id": "b25621fd",
   "metadata": {},
   "outputs": [
    {
     "name": "stdout",
     "output_type": "stream",
     "text": [
      "Supercalifragilisticexpialidocious\r\n"
     ]
    }
   ],
   "source": [
    "//Defining String\n",
    "String[] array = { \"Supercalifragilisticexpialidocious\", \"Honorificabilitudinitatibus\", \"Bababadalgharaghtakamminarronnkonn\"};\n",
    "\n",
    "String longest = array[0];\n",
    "foreach (String word in array)\n",
    "{\n",
    "    if (word.Length > longest.Length)\n",
    "    {\n",
    "    longest = word;\n",
    "    }\n",
    "}\n",
    "\n",
    "Console.WriteLine(longest);"
   ]
  },
  {
   "cell_type": "markdown",
   "id": "8bccf072",
   "metadata": {},
   "source": [
    "# Question 2d C#"
   ]
  },
  {
   "cell_type": "code",
   "execution_count": 1,
   "id": "0cffb35b",
   "metadata": {
    "scrolled": true
   },
   "outputs": [
    {
     "data": {
      "text/html": [
       "\r\n",
       "<div>\r\n",
       "    <div id='dotnet-interactive-this-cell-11212.Microsoft.DotNet.Interactive.Http.HttpPort' style='display: none'>\r\n",
       "        The below script needs to be able to find the current output cell; this is an easy method to get it.\r\n",
       "    </div>\r\n",
       "    <script type='text/javascript'>\r\n",
       "async function probeAddresses(probingAddresses) {\r\n",
       "    function timeout(ms, promise) {\r\n",
       "        return new Promise(function (resolve, reject) {\r\n",
       "            setTimeout(function () {\r\n",
       "                reject(new Error('timeout'))\r\n",
       "            }, ms)\r\n",
       "            promise.then(resolve, reject)\r\n",
       "        })\r\n",
       "    }\r\n",
       "\r\n",
       "    if (Array.isArray(probingAddresses)) {\r\n",
       "        for (let i = 0; i < probingAddresses.length; i++) {\r\n",
       "\r\n",
       "            let rootUrl = probingAddresses[i];\r\n",
       "\r\n",
       "            if (!rootUrl.endsWith('/')) {\r\n",
       "                rootUrl = `${rootUrl}/`;\r\n",
       "            }\r\n",
       "\r\n",
       "            try {\r\n",
       "                let response = await timeout(1000, fetch(`${rootUrl}discovery`, {\r\n",
       "                    method: 'POST',\r\n",
       "                    cache: 'no-cache',\r\n",
       "                    mode: 'cors',\r\n",
       "                    timeout: 1000,\r\n",
       "                    headers: {\r\n",
       "                        'Content-Type': 'text/plain'\r\n",
       "                    },\r\n",
       "                    body: probingAddresses[i]\r\n",
       "                }));\r\n",
       "\r\n",
       "                if (response.status == 200) {\r\n",
       "                    return rootUrl;\r\n",
       "                }\r\n",
       "            }\r\n",
       "            catch (e) { }\r\n",
       "        }\r\n",
       "    }\r\n",
       "}\r\n",
       "\r\n",
       "function loadDotnetInteractiveApi() {\r\n",
       "    probeAddresses([\"http://10.0.0.10:1000/\", \"http://127.0.0.1:1000/\"])\r\n",
       "        .then((root) => {\r\n",
       "        // use probing to find host url and api resources\r\n",
       "        // load interactive helpers and language services\r\n",
       "        let dotnetInteractiveRequire = require.config({\r\n",
       "        context: '11212.Microsoft.DotNet.Interactive.Http.HttpPort',\r\n",
       "                paths:\r\n",
       "            {\r\n",
       "                'dotnet-interactive': `${root}resources`\r\n",
       "                }\r\n",
       "        }) || require;\r\n",
       "\r\n",
       "            window.dotnetInteractiveRequire = dotnetInteractiveRequire;\r\n",
       "\r\n",
       "            window.configureRequireFromExtension = function(extensionName, extensionCacheBuster) {\r\n",
       "                let paths = {};\r\n",
       "                paths[extensionName] = `${root}extensions/${extensionName}/resources/`;\r\n",
       "                \r\n",
       "                let internalRequire = require.config({\r\n",
       "                    context: extensionCacheBuster,\r\n",
       "                    paths: paths,\r\n",
       "                    urlArgs: `cacheBuster=${extensionCacheBuster}`\r\n",
       "                    }) || require;\r\n",
       "\r\n",
       "                return internalRequire\r\n",
       "            };\r\n",
       "        \r\n",
       "            dotnetInteractiveRequire([\r\n",
       "                    'dotnet-interactive/dotnet-interactive'\r\n",
       "                ],\r\n",
       "                function (dotnet) {\r\n",
       "                    dotnet.init(window);\r\n",
       "                },\r\n",
       "                function (error) {\r\n",
       "                    console.log(error);\r\n",
       "                }\r\n",
       "            );\r\n",
       "        })\r\n",
       "        .catch(error => {console.log(error);});\r\n",
       "    }\r\n",
       "\r\n",
       "// ensure `require` is available globally\r\n",
       "if ((typeof(require) !==  typeof(Function)) || (typeof(require.config) !== typeof(Function))) {\r\n",
       "    let require_script = document.createElement('script');\r\n",
       "    require_script.setAttribute('src', 'https://cdnjs.cloudflare.com/ajax/libs/require.js/2.3.6/require.min.js');\r\n",
       "    require_script.setAttribute('type', 'text/javascript');\r\n",
       "    \r\n",
       "    \r\n",
       "    require_script.onload = function() {\r\n",
       "        loadDotnetInteractiveApi();\r\n",
       "    };\r\n",
       "\r\n",
       "    document.getElementsByTagName('head')[0].appendChild(require_script);\r\n",
       "}\r\n",
       "else {\r\n",
       "    loadDotnetInteractiveApi();\r\n",
       "}\r\n",
       "\r\n",
       "    </script>\r\n",
       "</div>"
      ]
     },
     "metadata": {},
     "output_type": "display_data"
    },
    {
     "name": "stdout",
     "output_type": "stream",
     "text": [
      "First = Bartok\n",
      "Last = Buxtehude\n"
     ]
    }
   ],
   "source": [
    "// String in a Dictionary Form\n",
    "\n",
    "String[] composer = { \"Berlioz\", \"Borodin\", \"Brian\", \"Bartok\", \"Bellini\", \"Buxtehude\", \"Bernstein\"};\n",
    "\n",
    "//Aray Sorting for an order\n",
    "\n",
    "Array.Sort(composer, (x,y) => String.Compare(x,y)) ;\n",
    "    Console.WriteLine($\"First = {composer[0]}\");\n",
    "    Console.WriteLine($\"Last = {composer[composer.Length-1]}\");\n",
    "\n"
   ]
  },
  {
   "cell_type": "markdown",
   "id": "d8caf190",
   "metadata": {},
   "source": [
    "# Question 3 C#"
   ]
  },
  {
   "cell_type": "code",
   "execution_count": 2,
   "id": "94b7637c",
   "metadata": {
    "collapsed": true
   },
   "outputs": [
    {
     "name": "stdout",
     "output_type": "stream",
     "text": [
      "Value of A Side=\r\n"
     ]
    },
    {
     "ename": "Unhandled exception",
     "evalue": "System.ArgumentNullException: Value cannot be null. (Parameter 's')\r\n   at System.Double.Parse(String s)\r\n   at Submission#4.<<Initialize>>d__0.MoveNext()\r\n--- End of stack trace from previous location ---\r\n   at Microsoft.CodeAnalysis.Scripting.ScriptExecutionState.RunSubmissionsAsync[TResult](ImmutableArray`1 precedingExecutors, Func`2 currentExecutor, StrongBox`1 exceptionHolderOpt, Func`2 catchExceptionOpt, CancellationToken cancellationToken)",
     "output_type": "error",
     "traceback": [
      "System.ArgumentNullException: Value cannot be null. (Parameter 's')\r\n   at System.Double.Parse(String s)\r\n   at Submission#4.<<Initialize>>d__0.MoveNext()\r\n--- End of stack trace from previous location ---\r\n   at Microsoft.CodeAnalysis.Scripting.ScriptExecutionState.RunSubmissionsAsync[TResult](ImmutableArray`1 precedingExecutors, Func`2 currentExecutor, StrongBox`1 exceptionHolderOpt, Func`2 catchExceptionOpt, CancellationToken cancellationToken)",
      "   at System.Double.Parse(String s)",
      "   at Submission#4.<<Initialize>>d__0.MoveNext()",
      "--- End of stack trace from previous location ---",
      "   at Microsoft.CodeAnalysis.Scripting.ScriptExecutionState.RunSubmissionsAsync[TResult](ImmutableArray`1 precedingExecutors, Func`2 currentExecutor, StrongBox`1 exceptionHolderOpt, Func`2 catchExceptionOpt, CancellationToken cancellationToken)"
     ]
    }
   ],
   "source": [
    "\n",
    "\n",
    "double a,b,c;\n",
    "double s,area;\n",
    "\n",
    "// data from user\n",
    "Console.WriteLine(\"Value of A Side=\");\n",
    "a = double.Parse(Console.ReadLine());\n",
    "\n",
    "Console.WriteLine(\"Value of B Side=\");\n",
    "b = double.Parse(Console.ReadLine());\n",
    "\n",
    "Console.WriteLine(\"Value of C Side=\");\n",
    "c = double.Parse(Console.ReadLine());\n",
    "\n",
    "// applying formula\n",
    "s = (a+b+c)/2;\n",
    "area = Math.Sqrt(s*(s-a)*(s-b)*(s-c));\n",
    "\n",
    "Console.WriteLine(\"Area of Tringle =\" +area);\n",
    "Console.ReadLine();\n",
    "\n"
   ]
  },
  {
   "cell_type": "markdown",
   "id": "dbc782f8",
   "metadata": {},
   "source": [
    "# Question 4 C#"
   ]
  },
  {
   "cell_type": "code",
   "execution_count": 13,
   "id": "695087cc",
   "metadata": {},
   "outputs": [
    {
     "name": "stdout",
     "output_type": "stream",
     "text": [
      "Enter the number of Array:\n",
      "Enter 0 Elements in array :\n",
      "The Even Elements are: 0\n",
      "The Odd Elements are:0\n"
     ]
    }
   ],
   "source": [
    "int num, even=0, odd=0;\n",
    "int[] array;\n",
    "\n",
    "\n",
    "Console.WriteLine(\"Enter the number of Array:\");\n",
    "num = Convert.ToInt32(Console.ReadLine());\n",
    "\n",
    "Console.WriteLine(\"Enter {0} Elements in array :\",num);\n",
    "\n",
    "array = new int[num];\n",
    "for(int i=0;i<num;i++)\n",
    "{\n",
    "Console.Write(\"Element({0})\",i+1);\n",
    "array[i]= Convert.ToInt32(Console.ReadLine());\n",
    "}\n",
    "\n",
    "for(int i=0;i<num;i++)\n",
    "{\n",
    "if (array[i]%2==0)\n",
    "    {\n",
    "    even++;\n",
    "    }\n",
    "else\n",
    "    {\n",
    "    odd++;\n",
    "    }\n",
    "}\n",
    "Console.WriteLine(\"The Even Elements are: {0}\",even);\n",
    "Console.WriteLine(\"The Odd Elements are:{0}\",odd);\n",
    "Console.ReadLine();"
   ]
  },
  {
   "cell_type": "markdown",
   "id": "eee78027",
   "metadata": {},
   "source": [
    "# Question 5 C#"
   ]
  },
  {
   "cell_type": "code",
   "execution_count": null,
   "id": "8f15129a",
   "metadata": {},
   "outputs": [],
   "source": [
    "class data\n",
    "{\n",
    "    static bool inside (double x, double y, double x1, double y1, double x2, double y2)\n",
    "    {\n",
    "        if(x > x1 &&  x < x2 && y > y1 && y < y2)\n",
    "        return true;\n",
    "        return false;\n",
    "    \n",
    "    } \n",
    "}"
   ]
  },
  {
   "cell_type": "markdown",
   "id": "528b0614",
   "metadata": {},
   "source": [
    "# Question 6 Python"
   ]
  },
  {
   "cell_type": "code",
   "execution_count": 5,
   "id": "a280816f",
   "metadata": {},
   "outputs": [
    {
     "name": "stdout",
     "output_type": "stream",
     "text": [
      "pig=other\n",
      "otherway\n"
     ]
    }
   ],
   "source": [
    "def pig(word):\n",
    "\n",
    "    if char[0] in \"AEIOUaeiou\":\n",
    "        return char + 'way'\n",
    "    else:\n",
    "        return char[1:] + char[0] + 'ay'\n",
    "\n",
    "char = input(\"pig=\")\n",
    "print(pig(char).lower())"
   ]
  },
  {
   "cell_type": "markdown",
   "id": "5bda0028",
   "metadata": {},
   "source": [
    "# Question 7 Python"
   ]
  },
  {
   "cell_type": "code",
   "execution_count": 2,
   "id": "fc701a59",
   "metadata": {},
   "outputs": [],
   "source": [
    "def bldcount(bloodtype1):\n",
    "    \n",
    "    infile=open(\"bloodtype1.txt\",'r')\n",
    "    content=infile.read('r')\n",
    "    infile.close()\n",
    "    content=content.split()\n",
    "    return len(content)\n",
    "\n",
    "    for i in bloodtype1:\n",
    "        if content.count(i)==0:\n",
    "            print('There are no patients of bloodtype',i+'.');\n",
    "        elif content.count(i)==1:\n",
    "            print('There is one patient of bloodtype',i+'.');\n",
    "        else:\n",
    "            print('There are',content.count(i),'patients of bblodtype',i+'.');"
   ]
  },
  {
   "cell_type": "markdown",
   "id": "d5aba746",
   "metadata": {},
   "source": [
    "# Question 8 Python"
   ]
  },
  {
   "cell_type": "code",
   "execution_count": 3,
   "id": "52befdbf",
   "metadata": {},
   "outputs": [],
   "source": [
    "def curcov(name,money):\n",
    "    with open(\"currencies.txt\")as x:\n",
    "        \n",
    "        for num,currency in enumerate(x,1):\n",
    "            if name in currency:\n",
    "                data=list(line.split())\n",
    "                print(double(money)*double(data[1]))\n",
    "                \n",
    "    name = input(\"unit of currency:\")\n",
    "    money = input(\"enter the amount\")\n",
    "    curcov(name,money)\n",
    "    "
   ]
  },
  {
   "cell_type": "markdown",
   "id": "326c6833",
   "metadata": {},
   "source": [
    "# Question 9 Python"
   ]
  },
  {
   "cell_type": "markdown",
   "id": "3990ee01",
   "metadata": {},
   "source": [
    "Trying to add incompatible variables, as in adding 6 + ‘a’\n",
    "--Answer= TypeError\n",
    "\n",
    "Referring to the 12th item of a list that has only 10 items \n",
    "--Answer = IndexError\n",
    "\n",
    "Using a value that is out of range for a function’s input, such as calling math.sqrt(-1.0)  \n",
    "--Answer = ValueError\n",
    "\n",
    "Using an undeclared variable, such as print(x) when x has not been defined  \n",
    "--Answer = NameError\n",
    "\n",
    "Trying to open a file that does not exist, such as mistyping the file name or looking in the wrong directory.  \n",
    "--Answer = FileNotFoundError"
   ]
  },
  {
   "cell_type": "markdown",
   "id": "bc3114ab",
   "metadata": {},
   "source": [
    "# Question 10 Python"
   ]
  },
  {
   "cell_type": "code",
   "execution_count": null,
   "id": "664302ce",
   "metadata": {},
   "outputs": [],
   "source": [
    "String_user  = input('Enter String')\n",
    "\n",
    "#frequences function\n",
    "\n",
    "def frequencies(String_user):\n",
    "    string1= user_str.split()\n",
    "    x={}\n",
    "    \n",
    "    for i in string1:\n",
    "        print(x)\n",
    "frequencies(String_user)"
   ]
  }
 ],
 "metadata": {
  "kernelspec": {
   "display_name": "Python 3 (ipykernel)",
   "language": "python",
   "name": "python3"
  },
  "language_info": {
   "codemirror_mode": {
    "name": "ipython",
    "version": 3
   },
   "file_extension": ".py",
   "mimetype": "text/x-python",
   "name": "python",
   "nbconvert_exporter": "python",
   "pygments_lexer": "ipython3",
   "version": "3.9.7"
  }
 },
 "nbformat": 4,
 "nbformat_minor": 5
}
